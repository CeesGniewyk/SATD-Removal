{
  "nbformat": 4,
  "nbformat_minor": 0,
  "metadata": {
    "colab": {
      "name": "Evaluating Code2Seq.ipynb",
      "version": "0.3.2",
      "provenance": []
    },
    "kernelspec": {
      "name": "python3",
      "display_name": "Python 3"
    }
  },
  "cells": [
    {
      "cell_type": "code",
      "metadata": {
        "id": "lb9rMVDjZFCN",
        "colab_type": "code",
        "outputId": "46263c37-56c5-44ea-bf66-6127b0e8247c",
        "colab": {
          "base_uri": "https://localhost:8080/",
          "height": 136
        }
      },
      "source": [
        "!git clone https://github.com/tech-srl/code2seq"
      ],
      "execution_count": 0,
      "outputs": [
        {
          "output_type": "stream",
          "text": [
            "Cloning into 'code2seq'...\n",
            "remote: Enumerating objects: 37, done.\u001b[K\n",
            "remote: Counting objects: 100% (37/37), done.\u001b[K\n",
            "remote: Compressing objects: 100% (29/29), done.\u001b[K\n",
            "remote: Total 125 (delta 4), reused 35 (delta 4), pack-reused 88\u001b[K\n",
            "Receiving objects: 100% (125/125), 3.80 MiB | 38.90 MiB/s, done.\n",
            "Resolving deltas: 100% (17/17), done.\n"
          ],
          "name": "stdout"
        }
      ]
    },
    {
      "cell_type": "code",
      "metadata": {
        "id": "59zt3kykZ5bN",
        "colab_type": "code",
        "outputId": "d30bd532-7947-4fdd-a24c-eea8b21e29f5",
        "colab": {
          "base_uri": "https://localhost:8080/",
          "height": 34
        }
      },
      "source": [
        "cd /content/code2seq"
      ],
      "execution_count": 0,
      "outputs": [
        {
          "output_type": "stream",
          "text": [
            "/content/code2seq\n"
          ],
          "name": "stdout"
        }
      ]
    },
    {
      "cell_type": "code",
      "metadata": {
        "id": "K66LXee7Zg-r",
        "colab_type": "code",
        "outputId": "a8b452eb-ef10-4251-87f0-137a9ac5225d",
        "colab": {
          "base_uri": "https://localhost:8080/",
          "height": 255
        }
      },
      "source": [
        "!wget https://s3.amazonaws.com/code2seq/model/java-large/java-large-model.tar.gz\n",
        "!tar -xvzf java-large-model.tar.gz"
      ],
      "execution_count": 0,
      "outputs": [
        {
          "output_type": "stream",
          "text": [
            "--2019-06-29 13:34:40--  https://s3.amazonaws.com/code2seq/model/java-large/java-large-model.tar.gz\n",
            "Resolving s3.amazonaws.com (s3.amazonaws.com)... 52.216.227.91\n",
            "Connecting to s3.amazonaws.com (s3.amazonaws.com)|52.216.227.91|:443... connected.\n",
            "HTTP request sent, awaiting response... 200 OK\n",
            "Length: 143205968 (137M) [application/x-tar]\n",
            "Saving to: ‘java-large-model.tar.gz’\n",
            "\n",
            "java-large-model.ta 100%[===================>] 136.57M  38.5MB/s    in 3.5s    \n",
            "\n",
            "2019-06-29 13:34:44 (38.5 MB/s) - ‘java-large-model.tar.gz’ saved [143205968/143205968]\n",
            "\n",
            "models/java-large-model/model_iter52.release.data-00000-of-00001\n",
            "models/java-large-model/model_iter52.release.index\n",
            "models/java-large-model/model_iter52.release.dict\n"
          ],
          "name": "stdout"
        }
      ]
    },
    {
      "cell_type": "code",
      "metadata": {
        "id": "s6rizUm9cjo7",
        "colab_type": "code",
        "outputId": "0f7cde5b-814d-43e6-ad66-78b00b1a7cba",
        "colab": {
          "base_uri": "https://localhost:8080/",
          "height": 272
        }
      },
      "source": [
        "!wget https://s3.amazonaws.com/code2seq/datasets/java-small-preprocessed.tar.gz\n",
        "!tar -xvzf java-small-preprocessed.tar.gz"
      ],
      "execution_count": 0,
      "outputs": [
        {
          "output_type": "stream",
          "text": [
            "--2019-06-29 13:35:19--  https://s3.amazonaws.com/code2seq/datasets/java-small-preprocessed.tar.gz\n",
            "Resolving s3.amazonaws.com (s3.amazonaws.com)... 52.216.161.221\n",
            "Connecting to s3.amazonaws.com (s3.amazonaws.com)|52.216.161.221|:443... connected.\n",
            "HTTP request sent, awaiting response... 200 OK\n",
            "Length: 479663374 (457M) [application/x-tar]\n",
            "Saving to: ‘java-small-preprocessed.tar.gz’\n",
            "\n",
            "java-small-preproce 100%[===================>] 457.44M  48.1MB/s    in 9.9s    \n",
            "\n",
            "2019-06-29 13:35:29 (46.3 MB/s) - ‘java-small-preprocessed.tar.gz’ saved [479663374/479663374]\n",
            "\n",
            "java-small/java-small.dict.c2s\n",
            "java-small/java-small.test.c2s\n",
            "java-small/java-small.train.c2s\n",
            "java-small/java-small.val.c2s\n"
          ],
          "name": "stdout"
        }
      ]
    },
    {
      "cell_type": "code",
      "metadata": {
        "id": "t603wG6iZ8Io",
        "colab_type": "code",
        "colab": {}
      },
      "source": [
        "!python3 code2seq.py --load models/java-large-model/model_iter52.release --test java-small/java-small.test.c2s"
      ],
      "execution_count": 0,
      "outputs": []
    },
    {
      "cell_type": "code",
      "metadata": {
        "id": "N1mALmramTLH",
        "colab_type": "code",
        "colab": {
          "base_uri": "https://localhost:8080/",
          "height": 204
        },
        "outputId": "0459c40f-d29a-419f-e69e-4b8bfce145ca"
      },
      "source": [
        "!wget https://zenodo.org/record/2558730/files/java-ftskip-dim100-ws5.bin?download=1"
      ],
      "execution_count": 16,
      "outputs": [
        {
          "output_type": "stream",
          "text": [
            "--2019-06-29 14:17:34--  https://zenodo.org/record/2558730/files/java-ftskip-dim100-ws5.bin?download=1\n",
            "Resolving zenodo.org (zenodo.org)... 188.184.65.20\n",
            "Connecting to zenodo.org (zenodo.org)|188.184.65.20|:443... connected.\n",
            "HTTP request sent, awaiting response... 200 OK\n",
            "Length: 2848799750 (2.7G) [application/octet-stream]\n",
            "Saving to: ‘java-ftskip-dim100-ws5.bin?download=1’\n",
            "\n",
            "java-ftskip-dim100- 100%[===================>]   2.65G  18.9MB/s    in 2m 32s  \n",
            "\n",
            "2019-06-29 14:20:07 (17.8 MB/s) - ‘java-ftskip-dim100-ws5.bin?download=1’ saved [2848799750/2848799750]\n",
            "\n"
          ],
          "name": "stdout"
        }
      ]
    }
  ]
}